{
 "cells": [
  {
   "cell_type": "markdown",
   "id": "16b915b6",
   "metadata": {},
   "source": [
    "# Section 2 (Python Text Basics)"
   ]
  },
  {
   "cell_type": "markdown",
   "id": "3003ccef",
   "metadata": {},
   "source": [
    "## Introduction to Python Text Basics"
   ]
  },
  {
   "cell_type": "markdown",
   "id": "f12d1554",
   "metadata": {},
   "source": [
    "## Working with Text Files with Python - Part One"
   ]
  },
  {
   "cell_type": "code",
   "execution_count": 2,
   "id": "fcce6988",
   "metadata": {},
   "outputs": [
    {
     "name": "stdout",
     "output_type": "stream",
     "text": [
      "My name is Azarm\n"
     ]
    }
   ],
   "source": [
    "# F-string literals\n",
    "x = \"Azarm\"\n",
    "print(f\"My name is {x}\")"
   ]
  },
  {
   "cell_type": "code",
   "execution_count": 4,
   "id": "ff31e662",
   "metadata": {},
   "outputs": [
    {
     "name": "stdout",
     "output_type": "stream",
     "text": [
      "123\n",
      "my number is abc\n"
     ]
    }
   ],
   "source": [
    "# Dictionary\n",
    "MyDictionary = {'a':123, 'b':\"abc\"}\n",
    "print(MyDictionary['a'])\n",
    "print(f\"my number is {MyDictionary['b']}\")"
   ]
  },
  {
   "cell_type": "code",
   "execution_count": 5,
   "id": "56750f48",
   "metadata": {},
   "outputs": [
    {
     "name": "stdout",
     "output_type": "stream",
     "text": [
      "my list is 6\n"
     ]
    }
   ],
   "source": [
    "MyList = [6,2,3]\n",
    "print(f\"my list is {MyList[0]}\")"
   ]
  },
  {
   "cell_type": "code",
   "execution_count": 6,
   "id": "0e72f64a",
   "metadata": {},
   "outputs": [
    {
     "name": "stdout",
     "output_type": "stream",
     "text": [
      "[('Author', 'Topic', 'Pages'), ('Twain', 'Rafting', 601), ('Feynman', 'Physics', 95), ('Hamilton', 'Mythology', 144)]\n",
      "('Author', 'Topic', 'Pages')\n",
      "('Twain', 'Rafting', 601)\n",
      "('Feynman', 'Physics', 95)\n",
      "('Hamilton', 'Mythology', 144)\n"
     ]
    }
   ],
   "source": [
    "# Alignment / Example of tuples:\n",
    "library = [('Author', 'Topic', 'Pages'), ('Twain', 'Rafting', 601), ('Feynman', 'Physics', 95), ('Hamilton', 'Mythology', 144)]\n",
    "print(library)\n",
    "\n",
    "for book in library:\n",
    "    print(book)"
   ]
  },
  {
   "cell_type": "code",
   "execution_count": 7,
   "id": "9796b463",
   "metadata": {},
   "outputs": [
    {
     "name": "stdout",
     "output_type": "stream",
     "text": [
      "The author name is: Author\n",
      "The author name is: Twain\n",
      "The author name is: Feynman\n",
      "The author name is: Hamilton\n"
     ]
    }
   ],
   "source": [
    "# Lets say I only wanna see the Author Name\n",
    "for book in library:\n",
    "    print(f\"The author name is: {book[0]}\")"
   ]
  },
  {
   "cell_type": "code",
   "execution_count": 8,
   "id": "20ac475e",
   "metadata": {},
   "outputs": [
    {
     "name": "stdout",
     "output_type": "stream",
     "text": [
      "the Author is: Author\n",
      "the Author is: Twain\n",
      "the Author is: Feynman\n",
      "the Author is: Hamilton\n"
     ]
    }
   ],
   "source": [
    "# Another way of accessing this tuple: important\n",
    "for author,topic,pages in library:\n",
    "    print(f\"the Author is: {author}\")"
   ]
  },
  {
   "cell_type": "code",
   "execution_count": null,
   "id": "6a5e7c46",
   "metadata": {},
   "outputs": [],
   "source": [
    "# Formatting: the numbers are showing the min of char\n",
    "for author, topic, pages in library:\n",
    "    print(f\"{author:{10}} {topic:{30}} {pages:.>{10}}\")"
   ]
  },
  {
   "cell_type": "markdown",
   "id": "382d0c25",
   "metadata": {},
   "source": [
    "### datetime"
   ]
  },
  {
   "cell_type": "code",
   "execution_count": 9,
   "id": "1e2a284c",
   "metadata": {},
   "outputs": [
    {
     "name": "stdout",
     "output_type": "stream",
     "text": [
      "2019-02-28 00:00:00\n"
     ]
    }
   ],
   "source": [
    "from datetime import datetime\n",
    "\n",
    "today = datetime(year=2019, month=2, day=28)\n",
    "print(f\"{today}\")"
   ]
  },
  {
   "cell_type": "code",
   "execution_count": 10,
   "id": "586e1a51",
   "metadata": {},
   "outputs": [
    {
     "name": "stdout",
     "output_type": "stream",
     "text": [
      "Thu Feb 28 00:00:00 2019\n",
      "Thursday February 28, 2019\n"
     ]
    }
   ],
   "source": [
    "# date time formatting - Go to \"https://strftime.org/\"\n",
    "print(f\"{today:%c}\")\n",
    "print(f\"{today:%A %B %d, %Y}\")"
   ]
  },
  {
   "cell_type": "markdown",
   "id": "71cdc2af",
   "metadata": {},
   "source": [
    "## Working with Text Files with Python - Part Two"
   ]
  },
  {
   "cell_type": "code",
   "execution_count": null,
   "id": "53f3ce0d",
   "metadata": {},
   "outputs": [],
   "source": [
    "# This method only applicable in Jupyter Notebook\n",
    "# This method creates a txt file"
   ]
  },
  {
   "cell_type": "code",
   "execution_count": 5,
   "id": "5fe88fc5",
   "metadata": {},
   "outputs": [
    {
     "name": "stdout",
     "output_type": "stream",
     "text": [
      "Overwriting Test.txt\n"
     ]
    }
   ],
   "source": [
    "%%writefile Test.txt\n",
    "Hello, this is a quick test file.\n",
    "Here is the second line. Adding a word!!"
   ]
  },
  {
   "cell_type": "code",
   "execution_count": 11,
   "id": "87ae05f5",
   "metadata": {},
   "outputs": [
    {
     "data": {
      "text/plain": [
       "'C:\\\\Users\\\\Azarm'"
      ]
     },
     "execution_count": 11,
     "metadata": {},
     "output_type": "execute_result"
    }
   ],
   "source": [
    "pwd"
   ]
  },
  {
   "cell_type": "code",
   "execution_count": 16,
   "id": "04a0a44e",
   "metadata": {},
   "outputs": [],
   "source": [
    "# This command only opens the file, does not print it\n",
    "myfile = open('test.txt')"
   ]
  },
  {
   "cell_type": "code",
   "execution_count": 17,
   "id": "bf93fd70",
   "metadata": {},
   "outputs": [
    {
     "data": {
      "text/plain": [
       "<_io.TextIOWrapper name='test.txt' mode='r' encoding='cp1252'>"
      ]
     },
     "execution_count": 17,
     "metadata": {},
     "output_type": "execute_result"
    }
   ],
   "source": [
    "myfile"
   ]
  },
  {
   "cell_type": "code",
   "execution_count": 18,
   "id": "a0f38eec",
   "metadata": {},
   "outputs": [
    {
     "data": {
      "text/plain": [
       "'Hello, this is a quick test file.\\nHere is the second line. Adding a word!!\\n'"
      ]
     },
     "execution_count": 18,
     "metadata": {},
     "output_type": "execute_result"
    }
   ],
   "source": [
    "myfile.read()"
   ]
  },
  {
   "cell_type": "raw",
   "id": "5f9897a6",
   "metadata": {},
   "source": [
    "First time you run myfile.read() the curser is at the begining of the file and it read the whole text file. If you run the same code, it will not show anything to you because the curser will be at the end of the file. \n",
    "\n",
    "How to reset the courser? myfile.seek(0)"
   ]
  },
  {
   "cell_type": "code",
   "execution_count": 19,
   "id": "98ecf7b2",
   "metadata": {},
   "outputs": [
    {
     "data": {
      "text/plain": [
       "0"
      ]
     },
     "execution_count": 19,
     "metadata": {},
     "output_type": "execute_result"
    }
   ],
   "source": [
    "myfile.seek(0)"
   ]
  },
  {
   "cell_type": "code",
   "execution_count": 20,
   "id": "79c00672",
   "metadata": {},
   "outputs": [
    {
     "name": "stdout",
     "output_type": "stream",
     "text": [
      "Hello, this is a quick test file.\n",
      "Here is the second line. Adding a word!!\n",
      "\n"
     ]
    }
   ],
   "source": [
    "print(myfile.read())"
   ]
  },
  {
   "cell_type": "raw",
   "id": "ab74c533",
   "metadata": {},
   "source": [
    "You should always close the file when you done."
   ]
  },
  {
   "cell_type": "code",
   "execution_count": 21,
   "id": "406353e9",
   "metadata": {},
   "outputs": [],
   "source": [
    "myfile.close()"
   ]
  },
  {
   "cell_type": "raw",
   "id": "cfcea2de",
   "metadata": {},
   "source": [
    "myfile = open('')\n",
    "myfile.read()\n",
    "myfile.seek(0)\n",
    "myfile.close()"
   ]
  },
  {
   "cell_type": "raw",
   "id": "444afe8f",
   "metadata": {},
   "source": [
    "Now, how to iterate through each line with a read() method \n",
    "Instead of read(), you can use myfile.readlines() method which is going to treat each line of the file as an item in a list."
   ]
  },
  {
   "cell_type": "code",
   "execution_count": 25,
   "id": "04dc4be3",
   "metadata": {},
   "outputs": [],
   "source": [
    "myfile = open('Test.txt')"
   ]
  },
  {
   "cell_type": "code",
   "execution_count": 26,
   "id": "c5bbb72f",
   "metadata": {},
   "outputs": [
    {
     "data": {
      "text/plain": [
       "['Hello, this is a quick test file.\\n',\n",
       " 'Here is the second line. Adding a word!!\\n']"
      ]
     },
     "execution_count": 26,
     "metadata": {},
     "output_type": "execute_result"
    }
   ],
   "source": [
    "myfile.readlines()"
   ]
  },
  {
   "cell_type": "code",
   "execution_count": 30,
   "id": "a0ef64bf",
   "metadata": {},
   "outputs": [],
   "source": [
    "mylines = myfile.readlines()"
   ]
  },
  {
   "cell_type": "code",
   "execution_count": null,
   "id": "dac77371",
   "metadata": {},
   "outputs": [],
   "source": []
  }
 ],
 "metadata": {
  "kernelspec": {
   "display_name": "Python 3 (ipykernel)",
   "language": "python",
   "name": "python3"
  },
  "language_info": {
   "codemirror_mode": {
    "name": "ipython",
    "version": 3
   },
   "file_extension": ".py",
   "mimetype": "text/x-python",
   "name": "python",
   "nbconvert_exporter": "python",
   "pygments_lexer": "ipython3",
   "version": "3.8.8"
  },
  "toc": {
   "base_numbering": 1,
   "nav_menu": {},
   "number_sections": true,
   "sideBar": true,
   "skip_h1_title": false,
   "title_cell": "Table of Contents",
   "title_sidebar": "Contents",
   "toc_cell": false,
   "toc_position": {},
   "toc_section_display": true,
   "toc_window_display": false
  }
 },
 "nbformat": 4,
 "nbformat_minor": 5
}
