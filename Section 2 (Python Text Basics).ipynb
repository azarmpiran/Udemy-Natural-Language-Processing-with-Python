{
 "cells": [
  {
   "cell_type": "markdown",
   "id": "16b915b6",
   "metadata": {},
   "source": [
    "# Section 2 (Python Text Basics)"
   ]
  },
  {
   "cell_type": "markdown",
   "id": "3003ccef",
   "metadata": {},
   "source": [
    "## Introduction to Python Text Basics"
   ]
  },
  {
   "cell_type": "markdown",
   "id": "f12d1554",
   "metadata": {},
   "source": [
    "## Working with Text Files with Python - Part One"
   ]
  },
  {
   "cell_type": "code",
   "execution_count": 2,
   "id": "fcce6988",
   "metadata": {},
   "outputs": [
    {
     "name": "stdout",
     "output_type": "stream",
     "text": [
      "My name is Azarm\n"
     ]
    }
   ],
   "source": [
    "# F-string literals\n",
    "x = \"Azarm\"\n",
    "print(f\"My name is {x}\")"
   ]
  },
  {
   "cell_type": "code",
   "execution_count": 4,
   "id": "ff31e662",
   "metadata": {},
   "outputs": [
    {
     "name": "stdout",
     "output_type": "stream",
     "text": [
      "123\n",
      "my number is abc\n"
     ]
    }
   ],
   "source": [
    "# Dictionary\n",
    "MyDictionary = {'a':123, 'b':\"abc\"}\n",
    "print(MyDictionary['a'])\n",
    "print(f\"my number is {MyDictionary['b']}\")"
   ]
  },
  {
   "cell_type": "code",
   "execution_count": 5,
   "id": "56750f48",
   "metadata": {},
   "outputs": [
    {
     "name": "stdout",
     "output_type": "stream",
     "text": [
      "my list is 6\n"
     ]
    }
   ],
   "source": [
    "MyList = [6,2,3]\n",
    "print(f\"my list is {MyList[0]}\")"
   ]
  },
  {
   "cell_type": "code",
   "execution_count": 6,
   "id": "0e72f64a",
   "metadata": {},
   "outputs": [
    {
     "name": "stdout",
     "output_type": "stream",
     "text": [
      "[('Author', 'Topic', 'Pages'), ('Twain', 'Rafting', 601), ('Feynman', 'Physics', 95), ('Hamilton', 'Mythology', 144)]\n",
      "('Author', 'Topic', 'Pages')\n",
      "('Twain', 'Rafting', 601)\n",
      "('Feynman', 'Physics', 95)\n",
      "('Hamilton', 'Mythology', 144)\n"
     ]
    }
   ],
   "source": [
    "# Alignment / Example of tuples:\n",
    "library = [('Author', 'Topic', 'Pages'), ('Twain', 'Rafting', 601), ('Feynman', 'Physics', 95), ('Hamilton', 'Mythology', 144)]\n",
    "print(library)\n",
    "\n",
    "for book in library:\n",
    "    print(book)"
   ]
  },
  {
   "cell_type": "code",
   "execution_count": 7,
   "id": "9796b463",
   "metadata": {},
   "outputs": [
    {
     "name": "stdout",
     "output_type": "stream",
     "text": [
      "The author name is: Author\n",
      "The author name is: Twain\n",
      "The author name is: Feynman\n",
      "The author name is: Hamilton\n"
     ]
    }
   ],
   "source": [
    "# Lets say I only wanna see the Author Name\n",
    "for book in library:\n",
    "    print(f\"The author name is: {book[0]}\")"
   ]
  },
  {
   "cell_type": "code",
   "execution_count": 8,
   "id": "20ac475e",
   "metadata": {},
   "outputs": [
    {
     "name": "stdout",
     "output_type": "stream",
     "text": [
      "the Author is: Author\n",
      "the Author is: Twain\n",
      "the Author is: Feynman\n",
      "the Author is: Hamilton\n"
     ]
    }
   ],
   "source": [
    "# Another way of accessing this tuple: important\n",
    "for author,topic,pages in library:\n",
    "    print(f\"the Author is: {author}\")"
   ]
  },
  {
   "cell_type": "code",
   "execution_count": null,
   "id": "6a5e7c46",
   "metadata": {},
   "outputs": [],
   "source": [
    "# Formatting: the numbers are showing the min of char\n",
    "for author, topic, pages in library:\n",
    "    print(f\"{author:{10}} {topic:{30}} {pages:.>{10}}\")"
   ]
  },
  {
   "cell_type": "markdown",
   "id": "382d0c25",
   "metadata": {},
   "source": [
    "### datetime"
   ]
  },
  {
   "cell_type": "code",
   "execution_count": 9,
   "id": "1e2a284c",
   "metadata": {},
   "outputs": [
    {
     "name": "stdout",
     "output_type": "stream",
     "text": [
      "2019-02-28 00:00:00\n"
     ]
    }
   ],
   "source": [
    "from datetime import datetime\n",
    "\n",
    "today = datetime(year=2019, month=2, day=28)\n",
    "print(f\"{today}\")"
   ]
  },
  {
   "cell_type": "code",
   "execution_count": 10,
   "id": "586e1a51",
   "metadata": {},
   "outputs": [
    {
     "name": "stdout",
     "output_type": "stream",
     "text": [
      "Thu Feb 28 00:00:00 2019\n",
      "Thursday February 28, 2019\n"
     ]
    }
   ],
   "source": [
    "# date time formatting - Go to \"https://strftime.org/\"\n",
    "print(f\"{today:%c}\")\n",
    "print(f\"{today:%A %B %d, %Y}\")"
   ]
  },
  {
   "cell_type": "code",
   "execution_count": null,
   "id": "f427afea",
   "metadata": {},
   "outputs": [],
   "source": []
  },
  {
   "cell_type": "code",
   "execution_count": null,
   "id": "5fe88fc5",
   "metadata": {},
   "outputs": [],
   "source": []
  },
  {
   "cell_type": "code",
   "execution_count": null,
   "id": "87ae05f5",
   "metadata": {},
   "outputs": [],
   "source": []
  },
  {
   "cell_type": "code",
   "execution_count": null,
   "id": "04a0a44e",
   "metadata": {},
   "outputs": [],
   "source": []
  },
  {
   "cell_type": "code",
   "execution_count": null,
   "id": "bf93fd70",
   "metadata": {},
   "outputs": [],
   "source": []
  },
  {
   "cell_type": "code",
   "execution_count": null,
   "id": "a0f38eec",
   "metadata": {},
   "outputs": [],
   "source": []
  },
  {
   "cell_type": "code",
   "execution_count": null,
   "id": "bf02737e",
   "metadata": {},
   "outputs": [],
   "source": []
  }
 ],
 "metadata": {
  "kernelspec": {
   "display_name": "Python 3 (ipykernel)",
   "language": "python",
   "name": "python3"
  },
  "language_info": {
   "codemirror_mode": {
    "name": "ipython",
    "version": 3
   },
   "file_extension": ".py",
   "mimetype": "text/x-python",
   "name": "python",
   "nbconvert_exporter": "python",
   "pygments_lexer": "ipython3",
   "version": "3.8.8"
  },
  "toc": {
   "base_numbering": 1,
   "nav_menu": {},
   "number_sections": true,
   "sideBar": true,
   "skip_h1_title": false,
   "title_cell": "Table of Contents",
   "title_sidebar": "Contents",
   "toc_cell": false,
   "toc_position": {},
   "toc_section_display": true,
   "toc_window_display": false
  }
 },
 "nbformat": 4,
 "nbformat_minor": 5
}
